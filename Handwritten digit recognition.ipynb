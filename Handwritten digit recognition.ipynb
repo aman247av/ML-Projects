{
 "cells": [
  {
   "cell_type": "code",
   "execution_count": 2,
   "metadata": {},
   "outputs": [
    {
     "name": "stderr",
     "output_type": "stream",
     "text": [
      "2023-12-25 16:33:06.118849: I tensorflow/core/util/port.cc:110] oneDNN custom operations are on. You may see slightly different numerical results due to floating-point round-off errors from different computation orders. To turn them off, set the environment variable `TF_ENABLE_ONEDNN_OPTS=0`.\n",
      "2023-12-25 16:33:06.148576: I tensorflow/tsl/cuda/cudart_stub.cc:28] Could not find cuda drivers on your machine, GPU will not be used.\n",
      "2023-12-25 16:33:06.386961: I tensorflow/tsl/cuda/cudart_stub.cc:28] Could not find cuda drivers on your machine, GPU will not be used.\n",
      "2023-12-25 16:33:06.388276: I tensorflow/core/platform/cpu_feature_guard.cc:182] This TensorFlow binary is optimized to use available CPU instructions in performance-critical operations.\n",
      "To enable the following instructions: AVX2 AVX512F AVX512_VNNI FMA, in other operations, rebuild TensorFlow with the appropriate compiler flags.\n",
      "2023-12-25 16:33:07.620781: W tensorflow/compiler/tf2tensorrt/utils/py_utils.cc:38] TF-TRT Warning: Could not find TensorRT\n"
     ]
    }
   ],
   "source": [
    "import cv2\n",
    "import numpy as np\n",
    "import tensorflow as tf\n",
    "from tensorflow.keras import layers, models, datasets\n",
    "import warnings\n",
    "\n",
    "\n",
    "warnings.filterwarnings('ignore')\n",
    "\n",
    "# MNIST dataset\n",
    "(x_train, y_train), (x_test, y_test) = datasets.mnist.load_data()\n",
    "x_train, x_test = x_train / 255.0, x_test / 255.0"
   ]
  },
  {
   "cell_type": "code",
   "execution_count": 3,
   "metadata": {},
   "outputs": [
    {
     "name": "stdout",
     "output_type": "stream",
     "text": [
      "Model: \"sequential\"\n",
      "_________________________________________________________________\n",
      " Layer (type)                Output Shape              Param #   \n",
      "=================================================================\n",
      " conv2d (Conv2D)             (None, 24, 24, 6)         156       \n",
      "                                                                 \n",
      " max_pooling2d (MaxPooling2  (None, 12, 12, 6)         0         \n",
      " D)                                                              \n",
      "                                                                 \n",
      " conv2d_1 (Conv2D)           (None, 8, 8, 16)          2416      \n",
      "                                                                 \n",
      " max_pooling2d_1 (MaxPoolin  (None, 4, 4, 16)          0         \n",
      " g2D)                                                            \n",
      "                                                                 \n",
      " flatten (Flatten)           (None, 256)               0         \n",
      "                                                                 \n",
      " dense (Dense)               (None, 120)               30840     \n",
      "                                                                 \n",
      " dense_1 (Dense)             (None, 84)                10164     \n",
      "                                                                 \n",
      " dense_2 (Dense)             (None, 10)                850       \n",
      "                                                                 \n",
      "=================================================================\n",
      "Total params: 44426 (173.54 KB)\n",
      "Trainable params: 44426 (173.54 KB)\n",
      "Non-trainable params: 0 (0.00 Byte)\n",
      "_________________________________________________________________\n"
     ]
    }
   ],
   "source": [
    "\n",
    "# Define the LeNet-5 model\n",
    "model = models.Sequential([\n",
    "    # Convolutional Layer 1\n",
    "    layers.Conv2D(6, kernel_size=(5, 5), activation='relu', input_shape=(28, 28, 1)),\n",
    "    layers.MaxPooling2D(pool_size=(2, 2)),\n",
    "    \n",
    "    # Convolutional Layer 2\n",
    "    layers.Conv2D(16, kernel_size=(5, 5), activation='relu'),\n",
    "    layers.MaxPooling2D(pool_size=(2, 2)),\n",
    "    \n",
    "    # Flatten the feature maps\n",
    "    layers.Flatten(),\n",
    "    \n",
    "    # Fully Connected Layer 1\n",
    "    layers.Dense(120, activation='relu'),\n",
    "    \n",
    "    # Fully Connected Layer 2\n",
    "    layers.Dense(84, activation='relu'),\n",
    "    \n",
    "    # Output Layer\n",
    "    layers.Dense(10, activation='softmax')  # 10 output classes for digit recognition\n",
    "])\n",
    "\n",
    "# Compile the model\n",
    "model.compile(optimizer='adam',\n",
    "              loss='sparse_categorical_crossentropy',\n",
    "              metrics=['accuracy'])\n",
    "\n",
    "model.summary()\n"
   ]
  },
  {
   "cell_type": "code",
   "execution_count": 4,
   "metadata": {},
   "outputs": [
    {
     "name": "stdout",
     "output_type": "stream",
     "text": [
      "Epoch 1/10\n",
      "1688/1688 [==============================] - 6s 3ms/step - loss: 0.2082 - accuracy: 0.9361 - val_loss: 0.0685 - val_accuracy: 0.9793\n",
      "Epoch 2/10\n",
      "1688/1688 [==============================] - 5s 3ms/step - loss: 0.0704 - accuracy: 0.9781 - val_loss: 0.0744 - val_accuracy: 0.9767\n",
      "Epoch 3/10\n",
      "1688/1688 [==============================] - 5s 3ms/step - loss: 0.0513 - accuracy: 0.9841 - val_loss: 0.0539 - val_accuracy: 0.9842\n",
      "Epoch 4/10\n",
      "1688/1688 [==============================] - 5s 3ms/step - loss: 0.0416 - accuracy: 0.9874 - val_loss: 0.0441 - val_accuracy: 0.9870\n",
      "Epoch 5/10\n",
      "1688/1688 [==============================] - 4s 3ms/step - loss: 0.0344 - accuracy: 0.9886 - val_loss: 0.0384 - val_accuracy: 0.9897\n",
      "Epoch 6/10\n",
      "1688/1688 [==============================] - 5s 3ms/step - loss: 0.0287 - accuracy: 0.9907 - val_loss: 0.0373 - val_accuracy: 0.9895\n",
      "Epoch 7/10\n",
      "1688/1688 [==============================] - 5s 3ms/step - loss: 0.0234 - accuracy: 0.9924 - val_loss: 0.0538 - val_accuracy: 0.9857\n",
      "Epoch 8/10\n",
      "1688/1688 [==============================] - 5s 3ms/step - loss: 0.0214 - accuracy: 0.9928 - val_loss: 0.0345 - val_accuracy: 0.9920\n",
      "Epoch 9/10\n",
      "1688/1688 [==============================] - 4s 3ms/step - loss: 0.0179 - accuracy: 0.9940 - val_loss: 0.0339 - val_accuracy: 0.9910\n",
      "Epoch 10/10\n",
      "1688/1688 [==============================] - 4s 3ms/step - loss: 0.0153 - accuracy: 0.9951 - val_loss: 0.0396 - val_accuracy: 0.9905\n",
      "313/313 [==============================] - 0s 1ms/step - loss: 0.0492 - accuracy: 0.9873\n",
      "Test accuracy: 98.73%\n"
     ]
    }
   ],
   "source": [
    "# Train the model\n",
    "model.fit(x_train, y_train, epochs=10, validation_split=0.1)\n",
    "\n",
    "# Evaluate the model on the test set\n",
    "test_loss, test_accuracy = model.evaluate(x_test, y_test)\n",
    "print(f\"Test accuracy: {test_accuracy * 100:.2f}%\")"
   ]
  },
  {
   "cell_type": "code",
   "execution_count": 5,
   "metadata": {},
   "outputs": [
    {
     "name": "stdout",
     "output_type": "stream",
     "text": [
      "1/1 [==============================] - 0s 81ms/step\n",
      "Predicted Digit: 7\n",
      "1/1 [==============================] - 0s 26ms/step\n",
      "Predicted Digit: 7\n",
      "1/1 [==============================] - 0s 25ms/step\n",
      "Predicted Digit: 3\n",
      "1/1 [==============================] - 0s 21ms/step\n",
      "Predicted Digit: 4\n",
      "1/1 [==============================] - 0s 22ms/step\n",
      "Predicted Digit: 4\n",
      "1/1 [==============================] - 0s 23ms/step\n",
      "Predicted Digit: 8\n",
      "1/1 [==============================] - 0s 25ms/step\n",
      "Predicted Digit: 3\n",
      "1/1 [==============================] - 0s 25ms/step\n",
      "Predicted Digit: 7\n",
      "1/1 [==============================] - 0s 23ms/step\n",
      "Predicted Digit: 3\n",
      "1/1 [==============================] - 0s 20ms/step\n",
      "Predicted Digit: 8\n"
     ]
    }
   ],
   "source": [
    "\n",
    "# Live Inputs\n",
    "canvas = np.zeros((400, 400), dtype=np.uint8)\n",
    "\n",
    "def draw(event, x, y, flags, param):\n",
    "    if event == cv2.EVENT_MOUSEMOVE:\n",
    "        cv2.circle(canvas, (x, y), 10, 255, -1)\n",
    "\n",
    "cv2.namedWindow('Digit Prediction')\n",
    "cv2.setMouseCallback('Digit Prediction', draw)\n",
    "\n",
    "while True:\n",
    "    cv2.imshow('Digit Prediction', canvas)\n",
    "\n",
    "    # press 'enter' to predict the digit\n",
    "    key = cv2.waitKey(1)\n",
    "    if key == 13:\n",
    "        resized = cv2.resize(canvas, (28, 28))\n",
    "        normalized = resized / 255.0\n",
    "        reshaped = np.reshape(normalized, (1, 28, 28))\n",
    "        \n",
    "        prediction = model.predict(reshaped)\n",
    "        digit = np.argmax(prediction)\n",
    "\n",
    "        print(f\"Predicted Digit: {digit}\")\n",
    "\n",
    "        canvas.fill(0)\n",
    "\n",
    "    elif key == 27:  # Press Esc to EXIT\n",
    "        break\n",
    "\n",
    "cv2.destroyAllWindows()\n"
   ]
  },
  {
   "cell_type": "code",
   "execution_count": null,
   "metadata": {},
   "outputs": [],
   "source": []
  },
  {
   "cell_type": "code",
   "execution_count": null,
   "metadata": {},
   "outputs": [],
   "source": []
  }
 ],
 "metadata": {
  "kernelspec": {
   "display_name": "Python 3 (ipykernel)",
   "language": "python",
   "name": "python3"
  },
  "language_info": {
   "codemirror_mode": {
    "name": "ipython",
    "version": 3
   },
   "file_extension": ".py",
   "mimetype": "text/x-python",
   "name": "python",
   "nbconvert_exporter": "python",
   "pygments_lexer": "ipython3",
   "version": "3.11.6"
  }
 },
 "nbformat": 4,
 "nbformat_minor": 2
}
