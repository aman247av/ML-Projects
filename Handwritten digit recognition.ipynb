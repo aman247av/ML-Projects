{
 "cells": [
  {
   "cell_type": "code",
   "execution_count": 11,
   "metadata": {},
   "outputs": [],
   "source": [
    "import cv2\n",
    "import numpy as np\n",
    "import tensorflow as tf\n",
    "from tensorflow.keras import layers, models, datasets\n",
    "import warnings\n",
    "\n",
    "\n",
    "warnings.filterwarnings('ignore')\n",
    "\n",
    "# MNIST dataset\n",
    "(x_train, y_train), (x_test, y_test) = datasets.mnist.load_data()\n",
    "x_train, x_test = x_train / 255.0, x_test / 255.0"
   ]
  },
  {
   "cell_type": "code",
   "execution_count": 12,
   "metadata": {},
   "outputs": [
    {
     "name": "stdout",
     "output_type": "stream",
     "text": [
      "Model: \"sequential_3\"\n",
      "_________________________________________________________________\n",
      " Layer (type)                Output Shape              Param #   \n",
      "=================================================================\n",
      " conv2d_6 (Conv2D)           (None, 24, 24, 6)         156       \n",
      "                                                                 \n",
      " max_pooling2d_6 (MaxPoolin  (None, 12, 12, 6)         0         \n",
      " g2D)                                                            \n",
      "                                                                 \n",
      " conv2d_7 (Conv2D)           (None, 8, 8, 16)          2416      \n",
      "                                                                 \n",
      " max_pooling2d_7 (MaxPoolin  (None, 4, 4, 16)          0         \n",
      " g2D)                                                            \n",
      "                                                                 \n",
      " flatten_3 (Flatten)         (None, 256)               0         \n",
      "                                                                 \n",
      " dense_9 (Dense)             (None, 120)               30840     \n",
      "                                                                 \n",
      " dense_10 (Dense)            (None, 84)                10164     \n",
      "                                                                 \n",
      " dense_11 (Dense)            (None, 10)                850       \n",
      "                                                                 \n",
      "=================================================================\n",
      "Total params: 44426 (173.54 KB)\n",
      "Trainable params: 44426 (173.54 KB)\n",
      "Non-trainable params: 0 (0.00 Byte)\n",
      "_________________________________________________________________\n"
     ]
    }
   ],
   "source": [
    "\n",
    "# Define the LeNet-5 model\n",
    "model = models.Sequential([\n",
    "    # Convolutional Layer 1\n",
    "    layers.Conv2D(6, kernel_size=(5, 5), activation='relu', input_shape=(28, 28, 1)),\n",
    "    layers.MaxPooling2D(pool_size=(2, 2)),\n",
    "    \n",
    "    # Convolutional Layer 2\n",
    "    layers.Conv2D(16, kernel_size=(5, 5), activation='relu'),\n",
    "    layers.MaxPooling2D(pool_size=(2, 2)),\n",
    "    \n",
    "    # Flatten the feature maps\n",
    "    layers.Flatten(),\n",
    "    \n",
    "    # Fully Connected Layer 1\n",
    "    layers.Dense(120, activation='relu'),\n",
    "    \n",
    "    # Fully Connected Layer 2\n",
    "    layers.Dense(84, activation='relu'),\n",
    "    \n",
    "    # Output Layer\n",
    "    layers.Dense(10, activation='softmax')  # 10 output classes for digit recognition\n",
    "])\n",
    "\n",
    "# Compile the model\n",
    "model.compile(optimizer='adam',\n",
    "              loss='sparse_categorical_crossentropy',\n",
    "              metrics=['accuracy'])\n",
    "\n",
    "model.summary()\n"
   ]
  },
  {
   "cell_type": "code",
   "execution_count": 13,
   "metadata": {},
   "outputs": [
    {
     "name": "stdout",
     "output_type": "stream",
     "text": [
      "Epoch 1/10\n",
      "1688/1688 [==============================] - 4s 2ms/step - loss: 0.2118 - accuracy: 0.9341 - val_loss: 0.0615 - val_accuracy: 0.9835\n",
      "Epoch 2/10\n",
      "1688/1688 [==============================] - 3s 2ms/step - loss: 0.0648 - accuracy: 0.9795 - val_loss: 0.0549 - val_accuracy: 0.9832\n",
      "Epoch 3/10\n",
      "1688/1688 [==============================] - 3s 2ms/step - loss: 0.0465 - accuracy: 0.9854 - val_loss: 0.0443 - val_accuracy: 0.9865\n",
      "Epoch 4/10\n",
      "1688/1688 [==============================] - 3s 2ms/step - loss: 0.0362 - accuracy: 0.9887 - val_loss: 0.0491 - val_accuracy: 0.9872\n",
      "Epoch 5/10\n",
      "1688/1688 [==============================] - 3s 2ms/step - loss: 0.0295 - accuracy: 0.9907 - val_loss: 0.0443 - val_accuracy: 0.9875\n",
      "Epoch 6/10\n",
      "1688/1688 [==============================] - 3s 2ms/step - loss: 0.0263 - accuracy: 0.9918 - val_loss: 0.0437 - val_accuracy: 0.9878\n",
      "Epoch 7/10\n",
      "1688/1688 [==============================] - 3s 2ms/step - loss: 0.0205 - accuracy: 0.9933 - val_loss: 0.0499 - val_accuracy: 0.9888\n",
      "Epoch 8/10\n",
      "1688/1688 [==============================] - 3s 2ms/step - loss: 0.0182 - accuracy: 0.9940 - val_loss: 0.0525 - val_accuracy: 0.9870\n",
      "Epoch 9/10\n",
      "1688/1688 [==============================] - 3s 2ms/step - loss: 0.0164 - accuracy: 0.9945 - val_loss: 0.0555 - val_accuracy: 0.9850\n",
      "Epoch 10/10\n",
      "1688/1688 [==============================] - 3s 2ms/step - loss: 0.0142 - accuracy: 0.9953 - val_loss: 0.0427 - val_accuracy: 0.9887\n",
      "313/313 [==============================] - 0s 874us/step - loss: 0.0404 - accuracy: 0.9885\n",
      "Test accuracy: 98.85%\n"
     ]
    }
   ],
   "source": [
    "# Train the model\n",
    "model.fit(x_train, y_train, epochs=10, validation_split=0.1)\n",
    "\n",
    "# Evaluate the model on the test set\n",
    "test_loss, test_accuracy = model.evaluate(x_test, y_test)\n",
    "print(f\"Test accuracy: {test_accuracy * 100:.2f}%\")"
   ]
  },
  {
   "cell_type": "code",
   "execution_count": 14,
   "metadata": {},
   "outputs": [
    {
     "name": "stdout",
     "output_type": "stream",
     "text": [
      "1/1 [==============================] - 0s 40ms/step\n",
      "Predicted Digit: 8\n",
      "1/1 [==============================] - 0s 22ms/step\n",
      "Predicted Digit: 9\n",
      "1/1 [==============================] - 0s 11ms/step\n",
      "Predicted Digit: 5\n",
      "1/1 [==============================] - 0s 11ms/step\n",
      "Predicted Digit: 3\n",
      "1/1 [==============================] - 0s 12ms/step\n",
      "Predicted Digit: 2\n",
      "1/1 [==============================] - 0s 13ms/step\n",
      "Predicted Digit: 2\n",
      "1/1 [==============================] - 0s 12ms/step\n",
      "Predicted Digit: 1\n",
      "1/1 [==============================] - 0s 12ms/step\n",
      "Predicted Digit: 4\n",
      "1/1 [==============================] - 0s 11ms/step\n",
      "Predicted Digit: 6\n",
      "1/1 [==============================] - 0s 11ms/step\n",
      "Predicted Digit: 5\n",
      "1/1 [==============================] - 0s 12ms/step\n",
      "Predicted Digit: 7\n"
     ]
    }
   ],
   "source": [
    "\n",
    "# Live Inputs\n",
    "canvas = np.zeros((400, 400), dtype=np.uint8)\n",
    "\n",
    "def draw(event, x, y, flags, param):\n",
    "    if event == cv2.EVENT_MOUSEMOVE:\n",
    "        cv2.circle(canvas, (x, y), 10, 255, -1)\n",
    "\n",
    "cv2.namedWindow('Digit Prediction')\n",
    "cv2.setMouseCallback('Digit Prediction', draw)\n",
    "\n",
    "while True:\n",
    "    cv2.imshow('Digit Prediction', canvas)\n",
    "\n",
    "    # press 'enter' to predict the digit\n",
    "    key = cv2.waitKey(1)\n",
    "    if key == 13:\n",
    "        resized = cv2.resize(canvas, (28, 28))\n",
    "        normalized = resized / 255.0\n",
    "        reshaped = np.reshape(normalized, (1, 28, 28))\n",
    "        \n",
    "        prediction = model.predict(reshaped)\n",
    "        digit = np.argmax(prediction)\n",
    "\n",
    "        print(f\"Predicted Digit: {digit}\")\n",
    "\n",
    "        canvas.fill(0)\n",
    "\n",
    "    elif key == 27:  # Press Esc to EXIT\n",
    "        break\n",
    "\n",
    "cv2.destroyAllWindows()\n"
   ]
  },
  {
   "cell_type": "code",
   "execution_count": null,
   "metadata": {},
   "outputs": [],
   "source": []
  }
 ],
 "metadata": {
  "kernelspec": {
   "display_name": "Python 3",
   "language": "python",
   "name": "python3"
  },
  "language_info": {
   "codemirror_mode": {
    "name": "ipython",
    "version": 3
   },
   "file_extension": ".py",
   "mimetype": "text/x-python",
   "name": "python",
   "nbconvert_exporter": "python",
   "pygments_lexer": "ipython3",
   "version": "3.11.2"
  },
  "orig_nbformat": 4
 },
 "nbformat": 4,
 "nbformat_minor": 2
}
