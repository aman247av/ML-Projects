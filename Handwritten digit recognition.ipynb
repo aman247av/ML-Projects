{
 "cells": [
  {
   "cell_type": "code",
<<<<<<< HEAD
   "execution_count": 1,
   "metadata": {},
   "outputs": [
    {
     "name": "stderr",
     "output_type": "stream",
     "text": [
      "2023-08-25 17:05:25.890193: I tensorflow/core/util/port.cc:110] oneDNN custom operations are on. You may see slightly different numerical results due to floating-point round-off errors from different computation orders. To turn them off, set the environment variable `TF_ENABLE_ONEDNN_OPTS=0`.\n",
      "2023-08-25 17:05:25.891613: I tensorflow/tsl/cuda/cudart_stub.cc:28] Could not find cuda drivers on your machine, GPU will not be used.\n",
      "2023-08-25 17:05:25.922635: I tensorflow/tsl/cuda/cudart_stub.cc:28] Could not find cuda drivers on your machine, GPU will not be used.\n",
      "2023-08-25 17:05:25.923214: I tensorflow/core/platform/cpu_feature_guard.cc:182] This TensorFlow binary is optimized to use available CPU instructions in performance-critical operations.\n",
      "To enable the following instructions: AVX2 AVX512F AVX512_VNNI FMA, in other operations, rebuild TensorFlow with the appropriate compiler flags.\n",
      "2023-08-25 17:05:26.799518: W tensorflow/compiler/tf2tensorrt/utils/py_utils.cc:38] TF-TRT Warning: Could not find TensorRT\n"
     ]
    },
    {
     "name": "stdout",
     "output_type": "stream",
     "text": [
      "Model: \"sequential\"\n",
      "_________________________________________________________________\n",
      " Layer (type)                Output Shape              Param #   \n",
      "=================================================================\n",
      " conv2d (Conv2D)             (None, 24, 24, 6)         156       \n",
      "                                                                 \n",
      " max_pooling2d (MaxPooling2  (None, 12, 12, 6)         0         \n",
      " D)                                                              \n",
      "                                                                 \n",
      " conv2d_1 (Conv2D)           (None, 8, 8, 16)          2416      \n",
      "                                                                 \n",
      " max_pooling2d_1 (MaxPoolin  (None, 4, 4, 16)          0         \n",
      " g2D)                                                            \n",
      "                                                                 \n",
      " flatten (Flatten)           (None, 256)               0         \n",
      "                                                                 \n",
      " dense (Dense)               (None, 120)               30840     \n",
      "                                                                 \n",
      " dense_1 (Dense)             (None, 84)                10164     \n",
      "                                                                 \n",
      " dense_2 (Dense)             (None, 10)                850       \n",
      "                                                                 \n",
      "=================================================================\n",
      "Total params: 44426 (173.54 KB)\n",
      "Trainable params: 44426 (173.54 KB)\n",
      "Non-trainable params: 0 (0.00 Byte)\n",
      "_________________________________________________________________\n"
=======
   "execution_count": 24,
   "metadata": {},
   "outputs": [
    {
     "name": "stdout",
     "output_type": "stream",
     "text": [
      "Epoch 1/10\n",
      "1688/1688 [==============================] - 3s 1ms/step - loss: 0.3137 - accuracy: 0.9090 - val_loss: 0.1272 - val_accuracy: 0.9653\n",
      "Epoch 2/10\n",
      "1688/1688 [==============================] - 2s 1ms/step - loss: 0.1514 - accuracy: 0.9543 - val_loss: 0.0932 - val_accuracy: 0.9742\n",
      "Epoch 3/10\n",
      "1688/1688 [==============================] - 2s 1ms/step - loss: 0.1122 - accuracy: 0.9657 - val_loss: 0.0848 - val_accuracy: 0.9772\n",
      "Epoch 4/10\n",
      "1688/1688 [==============================] - 2s 1ms/step - loss: 0.0920 - accuracy: 0.9714 - val_loss: 0.0763 - val_accuracy: 0.9787\n",
      "Epoch 5/10\n",
      "1688/1688 [==============================] - 2s 1ms/step - loss: 0.0783 - accuracy: 0.9755 - val_loss: 0.0822 - val_accuracy: 0.9750\n",
      "Epoch 6/10\n",
      "1688/1688 [==============================] - 2s 1ms/step - loss: 0.0693 - accuracy: 0.9775 - val_loss: 0.0667 - val_accuracy: 0.9807\n",
      "Epoch 7/10\n",
      "1688/1688 [==============================] - 2s 1ms/step - loss: 0.0606 - accuracy: 0.9808 - val_loss: 0.0731 - val_accuracy: 0.9795\n",
      "Epoch 8/10\n",
      "1688/1688 [==============================] - 2s 1ms/step - loss: 0.0548 - accuracy: 0.9816 - val_loss: 0.0698 - val_accuracy: 0.9807\n",
      "Epoch 9/10\n",
      "1688/1688 [==============================] - 2s 1ms/step - loss: 0.0506 - accuracy: 0.9831 - val_loss: 0.0792 - val_accuracy: 0.9795\n",
      "Epoch 10/10\n",
      "1688/1688 [==============================] - 2s 1ms/step - loss: 0.0449 - accuracy: 0.9854 - val_loss: 0.0714 - val_accuracy: 0.9813\n",
      "313/313 [==============================] - 0s 615us/step - loss: 0.0729 - accuracy: 0.9783\n",
      "Test accuracy: 97.83%\n"
>>>>>>> 8a95a4170006afa2d1cfcb52b56668a5685847eb
     ]
    }
   ],
   "source": [
    "import tensorflow as tf\n",
    "from tensorflow.keras import layers, models, datasets\n",
    "\n",
    "# MNIST dataset\n",
    "(x_train, y_train), (x_test, y_test) = datasets.mnist.load_data()\n",
    "x_train, x_test = x_train / 255.0, x_test / 255.0\n",
    "\n",
<<<<<<< HEAD
    "# Define the LeNet-5 model\n",
    "model = models.Sequential([\n",
    "    # Convolutional Layer 1\n",
    "    layers.Conv2D(6, kernel_size=(5, 5), activation='relu', input_shape=(28, 28, 1)),\n",
    "    layers.MaxPooling2D(pool_size=(2, 2)),\n",
    "    \n",
    "    # Convolutional Layer 2\n",
    "    layers.Conv2D(16, kernel_size=(5, 5), activation='relu'),\n",
    "    layers.MaxPooling2D(pool_size=(2, 2)),\n",
    "    \n",
    "    # Flatten the feature maps\n",
    "    layers.Flatten(),\n",
    "    \n",
    "    # Fully Connected Layer 1\n",
    "    layers.Dense(120, activation='relu'),\n",
    "    \n",
    "    # Fully Connected Layer 2\n",
    "    layers.Dense(84, activation='relu'),\n",
    "    \n",
    "    # Output Layer\n",
    "    layers.Dense(10, activation='softmax')  # 10 output classes for digit recognition\n",
=======
    "# Neural Network model\n",
    "model = models.Sequential([\n",
    "    layers.Flatten(input_shape=(28, 28)),  # Flatten the 28x28 images\n",
    "    layers.Dense(128, activation='relu'),\n",
    "    layers.Dropout(0.2),\n",
    "    layers.Dense(10, activation='softmax')  # Output layer with 10 classes (digits)\n",
>>>>>>> 8a95a4170006afa2d1cfcb52b56668a5685847eb
    "])\n",
    "\n",
    "# Compile the model\n",
    "model.compile(optimizer='adam',\n",
    "              loss='sparse_categorical_crossentropy',\n",
    "              metrics=['accuracy'])\n",
    "\n",
<<<<<<< HEAD
    "model.summary()\n"
   ]
  },
  {
   "cell_type": "code",
   "execution_count": 2,
   "metadata": {},
   "outputs": [
    {
     "name": "stdout",
     "output_type": "stream",
     "text": [
      "Epoch 1/10\n",
      "1688/1688 [==============================] - 4s 2ms/step - loss: 0.2229 - accuracy: 0.9300 - val_loss: 0.0773 - val_accuracy: 0.9775\n",
      "Epoch 2/10\n",
      "1688/1688 [==============================] - 3s 2ms/step - loss: 0.0675 - accuracy: 0.9786 - val_loss: 0.0452 - val_accuracy: 0.9873\n",
      "Epoch 3/10\n",
      "1688/1688 [==============================] - 3s 2ms/step - loss: 0.0498 - accuracy: 0.9846 - val_loss: 0.0477 - val_accuracy: 0.9868\n",
      "Epoch 4/10\n",
      "1688/1688 [==============================] - 3s 2ms/step - loss: 0.0398 - accuracy: 0.9873 - val_loss: 0.0434 - val_accuracy: 0.9873\n",
      "Epoch 5/10\n",
      "1688/1688 [==============================] - 3s 2ms/step - loss: 0.0319 - accuracy: 0.9897 - val_loss: 0.0381 - val_accuracy: 0.9895\n",
      "Epoch 6/10\n",
      "1688/1688 [==============================] - 3s 2ms/step - loss: 0.0269 - accuracy: 0.9912 - val_loss: 0.0362 - val_accuracy: 0.9897\n",
      "Epoch 7/10\n",
      "1688/1688 [==============================] - 3s 2ms/step - loss: 0.0245 - accuracy: 0.9919 - val_loss: 0.0313 - val_accuracy: 0.9913\n",
      "Epoch 8/10\n",
      "1688/1688 [==============================] - 3s 2ms/step - loss: 0.0190 - accuracy: 0.9938 - val_loss: 0.0403 - val_accuracy: 0.9890\n",
      "Epoch 9/10\n",
      "1688/1688 [==============================] - 3s 2ms/step - loss: 0.0168 - accuracy: 0.9947 - val_loss: 0.0526 - val_accuracy: 0.9882\n",
      "Epoch 10/10\n",
      "1688/1688 [==============================] - 3s 2ms/step - loss: 0.0163 - accuracy: 0.9945 - val_loss: 0.0524 - val_accuracy: 0.9878\n",
      "313/313 [==============================] - 0s 859us/step - loss: 0.0387 - accuracy: 0.9886\n",
      "Test accuracy: 98.86%\n"
     ]
    }
   ],
   "source": [
=======
>>>>>>> 8a95a4170006afa2d1cfcb52b56668a5685847eb
    "# Train the model\n",
    "model.fit(x_train, y_train, epochs=10, validation_split=0.1)\n",
    "\n",
    "# Evaluate the model on the test set\n",
    "test_loss, test_accuracy = model.evaluate(x_test, y_test)\n",
<<<<<<< HEAD
    "print(f\"Test accuracy: {test_accuracy * 100:.2f}%\")"
=======
    "print(f\"Test accuracy: {test_accuracy * 100:.2f}%\")\n"
>>>>>>> 8a95a4170006afa2d1cfcb52b56668a5685847eb
   ]
  },
  {
   "cell_type": "code",
<<<<<<< HEAD
   "execution_count": 3,
=======
   "execution_count": 25,
>>>>>>> 8a95a4170006afa2d1cfcb52b56668a5685847eb
   "metadata": {},
   "outputs": [
    {
     "name": "stdout",
     "output_type": "stream",
     "text": [
<<<<<<< HEAD
      "1/1 [==============================] - 0s 55ms/step\n",
      "Predicted Digit: 8\n",
      "1/1 [==============================] - 0s 11ms/step\n",
      "Predicted Digit: 9\n",
      "1/1 [==============================] - 0s 13ms/step\n",
      "Predicted Digit: 9\n",
      "1/1 [==============================] - 0s 11ms/step\n",
=======
      "1/1 [==============================] - 0s 29ms/step\n",
      "Predicted Digit: 6\n",
      "1/1 [==============================] - 0s 13ms/step\n",
      "Predicted Digit: 9\n",
      "1/1 [==============================] - 0s 13ms/step\n",
      "Predicted Digit: 6\n",
      "1/1 [==============================] - 0s 11ms/step\n",
      "Predicted Digit: 1\n",
      "1/1 [==============================] - 0s 12ms/step\n",
      "Predicted Digit: 2\n",
      "1/1 [==============================] - 0s 12ms/step\n",
      "Predicted Digit: 3\n",
      "1/1 [==============================] - 0s 11ms/step\n",
      "Predicted Digit: 7\n",
      "1/1 [==============================] - 0s 13ms/step\n",
      "Predicted Digit: 9\n",
      "1/1 [==============================] - 0s 12ms/step\n",
      "Predicted Digit: 3\n",
      "1/1 [==============================] - 0s 12ms/step\n",
      "Predicted Digit: 8\n",
      "1/1 [==============================] - 0s 10ms/step\n",
      "Predicted Digit: 8\n",
      "1/1 [==============================] - 0s 12ms/step\n",
      "Predicted Digit: 1\n",
      "1/1 [==============================] - 0s 12ms/step\n",
      "Predicted Digit: 4\n",
      "1/1 [==============================] - 0s 12ms/step\n",
      "Predicted Digit: 6\n",
      "1/1 [==============================] - 0s 12ms/step\n",
      "Predicted Digit: 5\n",
      "1/1 [==============================] - 0s 13ms/step\n",
      "Predicted Digit: 5\n",
      "1/1 [==============================] - 0s 12ms/step\n",
      "Predicted Digit: 4\n",
      "1/1 [==============================] - 0s 13ms/step\n",
      "Predicted Digit: 5\n",
      "1/1 [==============================] - 0s 12ms/step\n",
>>>>>>> 8a95a4170006afa2d1cfcb52b56668a5685847eb
      "Predicted Digit: 4\n"
     ]
    }
   ],
   "source": [
    "import cv2\n",
    "import numpy as np\n",
    "import tensorflow as tf\n",
    "from tensorflow.keras.models import load_model\n",
    "\n",
<<<<<<< HEAD
=======
    "\n",
    "# Create a canvas for drawing\n",
>>>>>>> 8a95a4170006afa2d1cfcb52b56668a5685847eb
    "canvas = np.zeros((400, 400), dtype=np.uint8)\n",
    "\n",
    "def draw(event, x, y, flags, param):\n",
    "    if event == cv2.EVENT_MOUSEMOVE:\n",
    "        cv2.circle(canvas, (x, y), 10, 255, -1)\n",
    "\n",
    "cv2.namedWindow('Digit Prediction')\n",
    "cv2.setMouseCallback('Digit Prediction', draw)\n",
    "\n",
    "while True:\n",
    "    cv2.imshow('Digit Prediction', canvas)\n",
    "\n",
<<<<<<< HEAD
    "    # press 'enter' to predict the digit\n",
=======
    "    # Wait for user to press 'p' to predict the digit\n",
>>>>>>> 8a95a4170006afa2d1cfcb52b56668a5685847eb
    "    key = cv2.waitKey(1)\n",
    "    if key == 13:\n",
    "        resized = cv2.resize(canvas, (28, 28))\n",
    "        normalized = resized / 255.0\n",
    "        reshaped = np.reshape(normalized, (1, 28, 28))\n",
<<<<<<< HEAD
    "        \n",
=======
    "\n",
    "        # Predict the digit using the model\n",
>>>>>>> 8a95a4170006afa2d1cfcb52b56668a5685847eb
    "        prediction = model.predict(reshaped)\n",
    "        digit = np.argmax(prediction)\n",
    "\n",
    "        print(f\"Predicted Digit: {digit}\")\n",
    "\n",
<<<<<<< HEAD
=======
    "        # Clear the canvas\n",
>>>>>>> 8a95a4170006afa2d1cfcb52b56668a5685847eb
    "        canvas.fill(0)\n",
    "\n",
    "    elif key == 27:  # Press Esc to exit\n",
    "        break\n",
    "\n",
    "cv2.destroyAllWindows()\n"
   ]
  },
  {
   "cell_type": "code",
   "execution_count": null,
   "metadata": {},
   "outputs": [],
   "source": []
  }
 ],
 "metadata": {
  "kernelspec": {
   "display_name": "Python 3",
   "language": "python",
   "name": "python3"
  },
  "language_info": {
   "codemirror_mode": {
    "name": "ipython",
    "version": 3
   },
   "file_extension": ".py",
   "mimetype": "text/x-python",
   "name": "python",
   "nbconvert_exporter": "python",
   "pygments_lexer": "ipython3",
   "version": "3.11.2"
  },
  "orig_nbformat": 4
 },
 "nbformat": 4,
 "nbformat_minor": 2
}
